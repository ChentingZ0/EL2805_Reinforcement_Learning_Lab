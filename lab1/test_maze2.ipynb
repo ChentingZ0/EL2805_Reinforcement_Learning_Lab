{
 "cells": [
  {
   "cell_type": "code",
   "execution_count": null,
   "metadata": {},
   "outputs": [],
   "source": [
    "# Siyi Qian 200012298709\n",
    "# Chenting Zhang 200205146202"
   ]
  },
  {
   "cell_type": "code",
   "execution_count": 1,
   "metadata": {
    "ExecuteTime": {
     "end_time": "2023-11-29T19:28:25.716254200Z",
     "start_time": "2023-11-29T19:28:25.289289900Z"
    }
   },
   "outputs": [],
   "source": [
    "import numpy as np\n",
    "import maze_result2_h as mz\n",
    "import matplotlib.pyplot as plt"
   ]
  },
  {
   "cell_type": "code",
   "execution_count": 2,
   "metadata": {
    "ExecuteTime": {
     "end_time": "2023-11-29T19:28:25.733867400Z",
     "start_time": "2023-11-29T19:28:25.716254200Z"
    }
   },
   "outputs": [],
   "source": [
    "maze1 = np.array([\n",
    "    [0, 0, 1, 0, 0, 0, 0, 2],\n",
    "    [0, 0, 1, 0, 0, 1, 0, 0],\n",
    "    [0, 0, 1, 0, 0, 1, 1, 1],\n",
    "    [0, 0, 1, 0, 0, 1, 0, 0],\n",
    "    [0, 0, 0, 0, 0, 0, 0, 0],\n",
    "    [0, 1, 1, 1, 1, 1, 1, 0],\n",
    "    [0, 0, 0, 0, 1, 0, 0, 0],\n",
    "])\n",
    "\n",
    "maze2 = np.array([\n",
    "    [0, 0, 1, 0, 0, 0, 0, 0],\n",
    "    [0, 0, 1, 0, 0, 1, 0, 0],\n",
    "    [0, 0, 1, 0, 0, 1, 1, 1],\n",
    "    [0, 0, 1, 0, 0, 1, 0, 0],\n",
    "    [0, 0, 0, 0, 0, 0, 0, 0],\n",
    "    [0, 1, 1, 1, 1, 1, 1, 0],\n",
    "    [0, 0, 0, 0, 1, 2, 0, 0],\n",
    "])\n",
    "\n",
    "gamma = 49/50\n",
    "epsilon = 0.0001\n",
    "simulate_time = 10000"
   ]
  },
  {
   "cell_type": "code",
   "execution_count": 3,
   "metadata": {},
   "outputs": [
    {
     "name": "stdout",
     "output_type": "stream",
     "text": [
      "29\n",
      "4160\n",
      "0.5840000000000001\n"
     ]
    },
    {
     "data": {
      "image/png": "[encoded data removed]",
      "text/plain": [
       "<Figure size 800x700 with 1 Axes>"
      ]
     },
     "metadata": {},
     "output_type": "display_data"
    }
   ],
   "source": [
    "start1 = (0, 0, 6, 5)\n",
    "fail_num = 0\n",
    "env1 = mz.Maze(maze1, minotaur_stay=False)\n",
    "# num_simulations = 10000\n",
    "V1, policy1 = mz.value_iteration(env1, gamma=gamma, epsilon=epsilon)\n",
    "env2 = mz.Maze(maze2, minotaur_stay=False)\n",
    "V2, policy2 = mz.value_iteration(env2, gamma=gamma, epsilon=epsilon)\n",
    "display_bool = True\n",
    "\n",
    "# simulation loop\n",
    "for _ in range(simulate_time):\n",
    "    path1 = env1.simulate(start1, policy1, gamma=gamma, method='ValIter')\n",
    "    # mz.animate_solution(maze1, path1)\n",
    "    if path1[-1][:2] != (0, 7):\n",
    "        # print('fail')\n",
    "        fail_num += 1\n",
    "        continue\n",
    "    else:\n",
    "        # print(path1[-1][2:])\n",
    "        # print(len(path1))\n",
    "        time1 = len(path1) - 1\n",
    "\n",
    "        # after running first time: return 1. minotaur location(m_locx, m_locy)  2. time used\n",
    "        m_locx, m_locy = path1[-1][2:]\n",
    "        start2 = (0, 7, m_locx, m_locy)\n",
    "        path2 = env2.simulate(start2, policy2, gamma=gamma, method='ValIter')\n",
    "        # mz.animate_solution(maze2, path2)\n",
    "        if path2[-1][:2] == (6, 5):\n",
    "            # print('Win')\n",
    "            time2 = len(path2) - 1\n",
    "            total_time = time1 + time2\n",
    "            if display_bool:\n",
    "                mz.animate_solution(maze1, path1)\n",
    "                mz.animate_solution(maze2, path2)\n",
    "                display_bool = False\n",
    "                print(total_time)\n",
    "        else:\n",
    "            fail_num += 1\n",
    "\n",
    "print(fail_num)\n",
    "print(1 - fail_num/simulate_time)\n"
   ]
  },
  {
   "cell_type": "code",
   "execution_count": null,
   "metadata": {},
   "outputs": [],
   "source": []
  }
 ],
 "metadata": {
  "kernelspec": {
   "display_name": "Python 3 (ipykernel)",
   "language": "python",
   "name": "python3"
  },
  "language_info": {
   "codemirror_mode": {
    "name": "ipython",
    "version": 3
   },
   "file_extension": ".py",
   "mimetype": "text/x-python",
   "name": "python",
   "nbconvert_exporter": "python",
   "pygments_lexer": "ipython3",
   "version": "3.9.18"
  }
 },
 "nbformat": 4,
 "nbformat_minor": 1
}
